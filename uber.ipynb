{
 "cells": [
  {
   "cell_type": "code",
   "execution_count": null,
   "id": "0d3b089f",
   "metadata": {},
   "outputs": [],
   "source": [
    "import pandas as pd\n",
    "import matplotlib.pyplot as plt\n",
    "import seaborn as sns\n",
    "data = pd.read_csv(\"uber.csv\")\n",
    "data[\"Date/Time\"] = data[\"Date/Time\"].map(pd.to_datetime) \n",
    "data.head()"
   ]
  },
  {
   "cell_type": "code",
   "execution_count": null,
   "id": "20368892",
   "metadata": {},
   "outputs": [],
   "source": [
    "data.head()"
   ]
  },
  {
   "cell_type": "code",
   "execution_count": null,
   "id": "04793c78",
   "metadata": {},
   "outputs": [],
   "source": [
    "data[\"Day\"] = data[\"Date/Time\"].apply(lambda x: x.day)\n",
    "data[\"Weekday\"] = data[\"Date/Time\"].apply(lambda x: x.weekday())\n",
    "data[\"Hour\"] = data[\"Date/Time\"].apply(lambda x: x.hour)\n",
    "print(data.head())"
   ]
  },
  {
   "cell_type": "code",
   "execution_count": null,
   "id": "3c9ee9d8",
   "metadata": {},
   "outputs": [],
   "source": [
    "sns.set(rc={'figure.figsize':(12, 10)})\n",
    "sns.distplot(data[\"Day\"])"
   ]
  },
  {
   "cell_type": "code",
   "execution_count": null,
   "id": "c6228c37",
   "metadata": {},
   "outputs": [],
   "source": [
    "sns.distplot(data[\"Hour\"])"
   ]
  },
  {
   "cell_type": "code",
   "execution_count": null,
   "id": "9f3ad54a",
   "metadata": {},
   "outputs": [],
   "source": [
    "sns.distplot(data[\"Weekday\"])"
   ]
  },
  {
   "cell_type": "code",
   "execution_count": null,
   "id": "4cdece71",
   "metadata": {},
   "outputs": [],
   "source": [
    "# Correlation of Weekday and Hour\n",
    "df = data.groupby([\"Weekday\", \"Hour\"]).apply(lambda x: len(x))\n",
    "df = df.unstack()\n",
    "sns.heatmap(df, annot=False)"
   ]
  }
 ],
 "metadata": {
  "kernelspec": {
   "display_name": "Python 3 (ipykernel)",
   "language": "python",
   "name": "python3"
  },
  "language_info": {
   "codemirror_mode": {
    "name": "ipython",
    "version": 3
   },
   "file_extension": ".py",
   "mimetype": "text/x-python",
   "name": "python",
   "nbconvert_exporter": "python",
   "pygments_lexer": "ipython3",
   "version": "3.9.12"
  }
 },
 "nbformat": 4,
 "nbformat_minor": 5
}
